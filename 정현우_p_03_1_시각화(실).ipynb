{
  "nbformat": 4,
  "nbformat_minor": 0,
  "metadata": {
    "colab": {
      "name": "정현우 - p_03_1_시각화(실).ipynb",
      "private_outputs": true,
      "provenance": [],
      "collapsed_sections": [],
      "include_colab_link": true
    },
    "kernelspec": {
      "name": "python3",
      "display_name": "Python 3"
    }
  },
  "cells": [
    {
      "cell_type": "markdown",
      "metadata": {
        "id": "view-in-github",
        "colab_type": "text"
      },
      "source": [
        "<a href=\"https://colab.research.google.com/github/over1234/over1234/blob/main/%EC%A0%95%ED%98%84%EC%9A%B0_p_03_1_%EC%8B%9C%EA%B0%81%ED%99%94(%EC%8B%A4).ipynb\" target=\"_parent\"><img src=\"https://colab.research.google.com/assets/colab-badge.svg\" alt=\"Open In Colab\"/></a>"
      ]
    },
    {
      "cell_type": "markdown",
      "metadata": {
        "id": "KllFtUPdAAzQ"
      },
      "source": [
        "#모듈(Module)\n",
        "* 함수나 변수 또는 클래스 들을 모아 놓은 파일\n",
        "* 다른 파이썬 프로그램에서 불러와 사용할 수 있게끔 만들어진 파이썬 파일\n",
        "\n",
        "##모듈 불러오기\n",
        "* import 모듈 이름 : 모듈 이름은 .py 확장자를 제거한 파일 이름\n",
        "* import 모듈 이름 as 별명 : 모듈 이름을 별명으로 사용\n",
        "* from 모듈 이름 import 모듈 함수\n",
        " : 모듈 이름을 붙이지 않고 바로 해당 모듈의 함수\n",
        "\n",
        "##대표적 모듈\n",
        "* matplotlib.pyplot : 시각화 모듈\n",
        "* numpy : 수치해석 모듈\n",
        "* pandas : 데이터 분석 모듈\n",
        "* requests : HTTP 요청/응답 모듈"
      ]
    },
    {
      "cell_type": "markdown",
      "metadata": {
        "id": "hkyLVpXMUSRQ"
      },
      "source": [
        "#1_데이터 시각화 : matplotlib.pyplot\n",
        "\n",
        "https://matplotlib.org/<br>\n",
        "https://wikidocs.net/book/5011\n"
      ]
    },
    {
      "cell_type": "markdown",
      "metadata": {
        "id": "PMe8pg08kBGM"
      },
      "source": [
        "### **plot() 함수 기본 그래프**\n",
        "1. import matplotlib.pyplot as plt  : 라이브러리 불러오기\n",
        "2. plt.plot([x축 데이터],[y축 데이터]) : plot() 함수에 데이터 입력하기\n",
        "3. plt.show() : 그래프 보여주기"
      ]
    },
    {
      "cell_type": "markdown",
      "metadata": {
        "id": "ze1X-vPZo5iY"
      },
      "source": [
        "1. 기본그래프 그리기"
      ]
    },
    {
      "cell_type": "code",
      "metadata": {
        "id": "YLK0j-4IqOc6"
      },
      "source": [
        "# 라이브러리 불러오기\n",
        "import matplotlib.pyplot as plt"
      ],
      "execution_count": null,
      "outputs": []
    },
    {
      "cell_type": "code",
      "metadata": {
        "id": "XMRGGA0nj9MD"
      },
      "source": [
        "# 연습\n",
        "x = [2, 3, 6, 7, 9]\n",
        "y = [50, 20, 30, 40, 10]\n",
        "#plt.plot(x)\n",
        "plt.plot(x,y)\n",
        "plt.show()"
      ],
      "execution_count": null,
      "outputs": []
    },
    {
      "cell_type": "markdown",
      "metadata": {
        "id": "lY7Y0cqVo9Gy"
      },
      "source": [
        "2. 그래프 옵션 추가 하기<br>\n",
        "\n",
        "* 제목 : title()\n",
        "* 범례 : legend()\n",
        "* 색상 : color \n",
        "* 선모양 : linestyle = ls \n",
        "* 마커모양 : r.(red, dot), g^(green, ^)\n"
      ]
    },
    {
      "cell_type": "code",
      "metadata": {
        "id": "byFonfszqBwN"
      },
      "source": [
        "#제목\n",
        "plt.title('text')"
      ],
      "execution_count": null,
      "outputs": []
    },
    {
      "cell_type": "markdown",
      "metadata": {
        "id": "FozTaTWWp_T0"
      },
      "source": [
        "실습문제"
      ]
    },
    {
      "cell_type": "code",
      "metadata": {
        "id": "w7EBC4x3Uhmr"
      },
      "source": [
        "#부산 3월 기온 # y축\n",
        "temp = [10.8, 8.5, 8.7, 7.9, 5.1, \n",
        "        8.1, 8.2, 10.4, 11, 9.9, \n",
        "        7.8, 9.5, 11.6, 8.2, 7.7, \n",
        "        6.6, 11.1, 12.2, 12.6, 10.4, \n",
        "        13.7, 14.1, 12.6, 11.5, 13, \n",
        "        14.5, 13.7, 9.4, 10.4, 11.6, 12.9]\n",
        "plt.plot(temp)\n",
        "plt.title('3_month_template')\n",
        "plt.show()"
      ],
      "execution_count": null,
      "outputs": []
    },
    {
      "cell_type": "code",
      "metadata": {
        "id": "_n1WrlgsUiJE"
      },
      "source": [
        ""
      ],
      "execution_count": null,
      "outputs": []
    },
    {
      "cell_type": "code",
      "metadata": {
        "id": "auXiAjnKVJAv"
      },
      "source": [
        "#한글 폰트 설치, 런타임 - 런타임 다시 시작\n",
        "!sudo apt-get install -y fonts-nanum\n",
        "!sudo fc-cache -fv\n",
        "!rm ~/.cache/matplotlib -rf"
      ],
      "execution_count": null,
      "outputs": []
    },
    {
      "cell_type": "code",
      "metadata": {
        "id": "reQK4ml9WePW"
      },
      "source": [
        "# font 설정\n",
        "import matplotlib.pyplot as plt\n",
        "plt.rc('font', family='NanumBarunGothic')"
      ],
      "execution_count": null,
      "outputs": []
    },
    {
      "cell_type": "code",
      "metadata": {
        "id": "3N0ik--mUrxk"
      },
      "source": [
        "temp = [10.8, 8.5, 8.7, 7.9, 5.1, \n",
        "        8.1, 8.2, 10.4, 11, 9.9, \n",
        "        7.8, 9.5, 11.6, 8.2, 7.7, \n",
        "        6.6, 11.1, 12.2, 12.6, 10.4, \n",
        "        13.7, 14.1, 12.6, 11.5, 13, \n",
        "        14.5, 13.7, 9.4, 10.4, 11.6, 12.9]\n",
        "plt.plot(temp)\n",
        "plt.title('기온')\n",
        "plt.show()"
      ],
      "execution_count": null,
      "outputs": []
    },
    {
      "cell_type": "code",
      "metadata": {
        "id": "713shj3kW3oL"
      },
      "source": [
        "# x, y 축 label\n",
        "temp = [10.8, 8.5, 8.7, 7.9, 5.1, \n",
        "        8.1, 8.2, 10.4, 11, 9.9, \n",
        "        7.8, 9.5, 11.6, 8.2, 7.7, \n",
        "        6.6, 11.1, 12.2, 12.6, 10.4, \n",
        "        13.7, 14.1, 12.6, 11.5, 13, \n",
        "        14.5, 13.7, 9.4, 10.4, 11.6, 12.9]\n",
        "plt.plot(temp)\n",
        "plt.title('부산 3월 기온')\n",
        "plt.xlabel('일자')\n",
        "plt.ylabel('기온')\n",
        "plt.show()"
      ],
      "execution_count": null,
      "outputs": []
    },
    {
      "cell_type": "code",
      "metadata": {
        "id": "NfiTvghLXFUc"
      },
      "source": [
        "# 마커\n",
        "temp = [10.8, 8.5, 8.7, 7.9, 5.1, \n",
        "        8.1, 8.2, 10.4, 11, 9.9, \n",
        "        7.8, 9.5, 11.6, 8.2, 7.7, \n",
        "        6.6, 11.1, 12.2, 12.6, 10.4, \n",
        "        13.7, 14.1, 12.6, 11.5, 13, \n",
        "        14.5, 13.7, 9.4, 10.4, 11.6, 12.9]\n",
        "plt.plot(temp, 'g+-')\n",
        "plt.title('부산 3월 기온')\n",
        "plt.xlabel('일자')\n",
        "plt.ylabel('기온')\n",
        "plt.show()"
      ],
      "execution_count": null,
      "outputs": []
    },
    {
      "cell_type": "code",
      "metadata": {
        "id": "6re3_9ulXFTB"
      },
      "source": [
        "temp = [10.8, 8.5, 8.7, 7.9, 5.1, \n",
        "        8.1, 8.2, 10.4, 11, 9.9, \n",
        "        7.8, 9.5, 11.6, 8.2, 7.7, \n",
        "        6.6, 11.1, 12.2, 12.6, 10.4, \n",
        "        13.7, 14.1, 12.6, 11.5, 13, \n",
        "        14.5, 13.7, 9.4, 10.4, 11.6, 12.9]\n",
        "plt.plot(temp, color= 'r', marker = 'o', linestyle='--')\n",
        "plt.title('부산 3월 기온')\n",
        "plt.xlabel('일자')\n",
        "plt.ylabel('기온')\n",
        "plt.show()"
      ],
      "execution_count": null,
      "outputs": []
    },
    {
      "cell_type": "code",
      "metadata": {
        "id": "sPcmvrWsXUjV"
      },
      "source": [
        "# subplot : 한 화면에 여러개의 그래프 그리기 (nrows, ncols, index : 행의 수, 열의 수, 인덱스)\n",
        "plt.figure(figsize=(12, 3))\n",
        "plt.subplot(2,2,1)\n",
        "plt.plot(temp, color='g', marker ='o', linestyle='--')\n",
        "\n",
        "plt.subplot(2,2,2)\n",
        "plt.plot(temp, color='r', marker ='x', linestyle='-')\n",
        "\n",
        "plt.subplot(2,2,3)\n",
        "plt.plot(temp, color='b', marker ='^', linestyle='-.')\n",
        "\n",
        "plt.subplot(2,2,4)\n",
        "plt.plot(temp, color='y', marker ='<', linestyle='--')\n",
        "\n",
        "plt.show()"
      ],
      "execution_count": null,
      "outputs": []
    },
    {
      "cell_type": "code",
      "metadata": {
        "id": "vQy-Nj43Xk3Y"
      },
      "source": [
        "#1행 3열(1,3,1~3)(131, 132, 133)\n",
        "fig = plt.figure(figsize=(12, 3))\n",
        "\n",
        "ax1 = fig.add_subplot(131)\n",
        "ax2 = fig.add_subplot(132)\n",
        "ax3 = fig.add_subplot(133)\n",
        "\n",
        "ax1.plot(temp, 'go-')\n",
        "ax1.set_title('초록')\n",
        "ax2.plot(temp, 'rx--')\n",
        "ax2.set_title('빨강')\n",
        "ax3.plot(temp,'b^-.') \n",
        "ax3.set_title('파랑')\n",
        "\n",
        "plt.show()"
      ],
      "execution_count": null,
      "outputs": []
    },
    {
      "cell_type": "code",
      "metadata": {
        "id": "wQDxjAk_r8aj"
      },
      "source": [
        "import matplotlib.pyplot as plt \n",
        "\n",
        "fig=plt.figure(figsize=(8,6))\n",
        "\n",
        "ax_1=fig.add_subplot(121)\n",
        "ax_1.text(0.3, 0.5, 'subplot(121)')\n",
        "\n",
        "ax_2=fig.add_subplot(222)\n",
        "ax_2.text(0.3, 0.5, 'subplot(222)')\n",
        "\n",
        "ax_3=fig.add_subplot(224)\n",
        "ax_3.text(0.3, 0.5, 'subplot(224)')\n",
        "\n",
        "fig.suptitle(\"Figure with multiple Subplots\")\n",
        "plt.show()"
      ],
      "execution_count": null,
      "outputs": []
    },
    {
      "cell_type": "code",
      "metadata": {
        "id": "PJSiyydvXreV"
      },
      "source": [
        "plt.plot(temp, 'g+-.', label='초록')\n",
        "plt.plot(temp, 'b-', label='파랑',drawstyle='steps-post') \n",
        "plt.legend()\n",
        "plt.grid()\n",
        "plt.show()"
      ],
      "execution_count": null,
      "outputs": []
    },
    {
      "cell_type": "code",
      "metadata": {
        "id": "aG61rfzyXvdb"
      },
      "source": [
        "plt.bar(temp, x) # x, y 모두 필요\n",
        "plt.show()"
      ],
      "execution_count": null,
      "outputs": []
    },
    {
      "cell_type": "code",
      "metadata": {
        "id": "2Ijyku9AXwzj"
      },
      "source": [
        "# 1일, 2일 출력 (str(i+1)+'일')\n",
        "x = [] \n",
        "for i in range(len(temp)):\n",
        "    x.append(str(i + 1)+'일')\n",
        "print(x)"
      ],
      "execution_count": null,
      "outputs": []
    },
    {
      "cell_type": "code",
      "metadata": {
        "id": "tyZCWpZmXziZ"
      },
      "source": [
        "fig = plt.figure(figsize=(15, 5))\n",
        "plt.plot(temp, 'go-')\n",
        "x0 = list(range(len(temp)))\n",
        "plt.xticks(x0, x, rotation=45)\n",
        "plt.show()"
      ],
      "execution_count": null,
      "outputs": []
    },
    {
      "cell_type": "code",
      "metadata": {
        "id": "m4J0Dis_YDMZ"
      },
      "source": [
        "#plt.figure(figsize=(10, 5))\n",
        "plt.bar(x,temp)\n",
        "plt.xticks(rotation=90)\n",
        "plt.show()"
      ],
      "execution_count": null,
      "outputs": []
    },
    {
      "cell_type": "code",
      "metadata": {
        "id": "7XDJFJ-LYIhZ"
      },
      "source": [
        "#plt.figure(figsize=(5, 10))\n",
        "plt.barh(x,temp)\n",
        "plt.xticks(rotation=90)\n",
        "plt.show()"
      ],
      "execution_count": null,
      "outputs": []
    },
    {
      "cell_type": "code",
      "metadata": {
        "id": "rG2tl1KoYKkK"
      },
      "source": [
        "#plt.hist(temp)\n",
        "plt.show()"
      ],
      "execution_count": null,
      "outputs": []
    },
    {
      "cell_type": "markdown",
      "metadata": {
        "id": "2d1s6phPYOVG"
      },
      "source": [
        "##**연습문제1**"
      ]
    },
    {
      "cell_type": "code",
      "metadata": {
        "id": "WmOLF3L9jZIZ"
      },
      "source": [
        "#한글 폰트 사용1 : colab , 런타임 다시 시작 하기\n",
        "%config InlineBackend.figure_format = 'retina'\n",
        "!apt -qq -y install fonts-nanum"
      ],
      "execution_count": null,
      "outputs": []
    },
    {
      "cell_type": "code",
      "metadata": {
        "id": "UtA7s6p7k0Yo"
      },
      "source": [
        "#한글 폰트 사용2 \n",
        "!sudo apt-get install -y fonts-nanum\n",
        "!sudo fc-cache -fv\n",
        "!rm ~/.cache/matplotlib -rf"
      ],
      "execution_count": null,
      "outputs": []
    },
    {
      "cell_type": "code",
      "metadata": {
        "id": "QOj0Id_DlS53"
      },
      "source": [
        "import matplotlib.pyplot as plt\n",
        "plt.rc('font', family='NanumBarunGothic')"
      ],
      "execution_count": null,
      "outputs": []
    },
    {
      "cell_type": "code",
      "metadata": {
        "id": "7UygfTYgYKoC"
      },
      "source": [
        "import csv, os\n",
        "#함수\n",
        "def opencsv(filename):\n",
        "  f = open(filename, 'r', encoding='cp949')\n",
        "  reader = csv.reader(f)\n",
        "  result = []\n",
        "  for i in reader:\n",
        "    result.append(i)\n",
        "  return result"
      ],
      "execution_count": null,
      "outputs": []
    },
    {
      "cell_type": "code",
      "metadata": {
        "id": "V9I3uwISYd2M"
      },
      "source": [
        "opencsv('ta_20211114115134.csv')"
      ],
      "execution_count": null,
      "outputs": []
    },
    {
      "cell_type": "code",
      "metadata": {
        "id": "9-WF3evZXSua"
      },
      "source": [
        "with open('/content/ta_20211114115134.csv', 'r', encoding='cp949') as fp:\n",
        "  data = fp.readlines()\n",
        "data"
      ],
      "execution_count": null,
      "outputs": []
    },
    {
      "cell_type": "code",
      "metadata": {
        "id": "m18nhS2lbnDV"
      },
      "source": [
        "data = data[1:]\n",
        "data"
      ],
      "execution_count": null,
      "outputs": []
    },
    {
      "cell_type": "code",
      "metadata": {
        "id": "InzDHgu3ZXq8"
      },
      "source": [
        "avg = []\n",
        "min = []\n",
        "max = []\n",
        "\n",
        "for line in data:\n",
        "  line = line.replace('\\n','')\n",
        "  item = line.split(',')\n",
        "  avg.append(float(item[2]))\n",
        "  min.append(float(item[3]))\n",
        "  max.append(float(item[4]))"
      ],
      "execution_count": null,
      "outputs": []
    },
    {
      "cell_type": "code",
      "metadata": {
        "id": "SWRt2bihbhqT"
      },
      "source": [
        "print(avg)"
      ],
      "execution_count": null,
      "outputs": []
    },
    {
      "cell_type": "code",
      "metadata": {
        "id": "psZKj4Zkb0Vq"
      },
      "source": [
        "print(min)"
      ],
      "execution_count": null,
      "outputs": []
    },
    {
      "cell_type": "code",
      "metadata": {
        "id": "bGSoWmrbb17u"
      },
      "source": [
        "print(max)"
      ],
      "execution_count": null,
      "outputs": []
    },
    {
      "cell_type": "code",
      "metadata": {
        "id": "_6GQW_3gYQw3"
      },
      "source": [
        "#2020년 부산의 1월에서 12월 평균, 최저, 최고 기온\n",
        "avg = [6.4, 7.1, 10.4, 12.6, 17.9, 22.4, 22.1, 27.2, 21.9, 17.3, 12.4, 4.3]\n",
        "min = [-3.2, -5.0, -0.3, 4.4, 12.2, 16.8, 17.8, 23.4, 15.5, 7.0, 1.1, -8.0]\n",
        "max = [17.7, 18.1, 18.2, 24.4, 26.0, 30.7, 30.6, 33.2, 30.6, 25.9, 23.3, 15.0]"
      ],
      "execution_count": null,
      "outputs": []
    },
    {
      "cell_type": "code",
      "metadata": {
        "id": "M26uCgyAYTth"
      },
      "source": [
        "#1월, 2월 표시\n",
        "avg = [6.4, 7.1, 10.4, 12.6, 17.9, 22.4, 22.1, 27.2, 21.9, 17.3, 12.4, 4.3]\n",
        "min = [-3.2, -5.0, -0.3, 4.4, 12.2, 16.8, 17.8, 23.4, 15.5, 7.0, 1.1, -8.0]\n",
        "max = [17.7, 18.1, 18.2, 24.4, 26.0, 30.7, 30.6, 33.2, 30.6, 25.9, 23.3, 15.0]\n",
        "\n",
        "x = list(range(len(avg)))\n",
        "xm = [str(i+1)+'월' for i in x] \n",
        "\n",
        "#음수 기호 표시\n",
        "plt.rcParams['axes.unicode_minus'] = False\n",
        "\n",
        "plt.figure(figsize=(10,5))\n",
        "plt.plot(xm, max, 'yo-', label='최고')\n",
        "plt.bar(xm, avg, label='평균')\n",
        "plt.plot(xm, min, 'bx--', label='최소')\n",
        "\n",
        "plt.title('2020년 부산 기온변화')\n",
        "plt.legend()\n",
        "plt.show()"
      ],
      "execution_count": null,
      "outputs": []
    },
    {
      "cell_type": "markdown",
      "metadata": {
        "id": "RSaBJ7csYdPp"
      },
      "source": [
        "##**연습문제2**"
      ]
    },
    {
      "cell_type": "code",
      "metadata": {
        "id": "4aJHsXRXYhGb"
      },
      "source": [
        "#시도별 대기정보 : 미세먼지(PM10), 오존(O3), 일산화탄소(CO)\n",
        "data = {'서울':[81,0.052,0.4] ,\n",
        "        '부산':[54,0.072,0.4],\n",
        "        '대구':[55,0.06,0.4],\n",
        "        '인천':[52,0.06,0.5],\n",
        "        '광주':[61,0.064,0.5],\n",
        "        '대전':[71,0.064,0.4],\n",
        "        '울산':[60,0.068,0.4],\n",
        "        '경기':[64,0.06,0.4],\n",
        "        '강원':[62,0.062,0.4],\n",
        "        '충북':[59,0.067,0.4],\n",
        "        '충남':[65,0.063,0.4],\n",
        "        '전북':[65,0.068,0.4],\n",
        "        '전남':[51,0.062,0.4],\n",
        "        '세종':[69,0.06,0.5],\n",
        "        '경북':[57,0.066,0.4],\n",
        "        '경남':[49,0.074,0.4],\n",
        "        '제주':[66,0.076,0.3]}"
      ],
      "execution_count": null,
      "outputs": []
    },
    {
      "cell_type": "code",
      "metadata": {
        "id": "K-wlX-7uYkU3"
      },
      "source": [
        "data = {'서울':[81,0.052,0.4] ,\n",
        "        '부산':[54,0.072,0.4],\n",
        "        '대구':[55,0.06,0.4],\n",
        "        '인천':[52,0.06,0.5],\n",
        "        '광주':[61,0.064,0.5],\n",
        "        '대전':[71,0.064,0.4],\n",
        "        '울산':[60,0.068,0.4],\n",
        "        '경기':[64,0.06,0.4],\n",
        "        '강원':[62,0.062,0.4],\n",
        "        '충북':[59,0.067,0.4],\n",
        "        '충남':[65,0.063,0.4],\n",
        "        '전북':[65,0.068,0.4],\n",
        "        '전남':[51,0.062,0.4],\n",
        "        '세종':[69,0.06,0.5],\n",
        "        '경북':[57,0.066,0.4],\n",
        "        '경남':[49,0.074,0.4],\n",
        "        '제주':[66,0.076,0.3]}\n",
        "        \n",
        "area = list(data.keys())\n",
        "print(area)"
      ],
      "execution_count": null,
      "outputs": []
    },
    {
      "cell_type": "code",
      "metadata": {
        "id": "g4_BvkKuYx0h"
      },
      "source": [
        "data = {'서울':[81,0.052,0.4] ,\n",
        "        '부산':[54,0.072,0.4],\n",
        "        '대구':[55,0.06,0.4],\n",
        "        '인천':[52,0.06,0.5],\n",
        "        '광주':[61,0.064,0.5],\n",
        "        '대전':[71,0.064,0.4],\n",
        "        '울산':[60,0.068,0.4],\n",
        "        '경기':[64,0.06,0.4],\n",
        "        '강원':[62,0.062,0.4],\n",
        "        '충북':[59,0.067,0.4],\n",
        "        '충남':[65,0.063,0.4],\n",
        "        '전북':[65,0.068,0.4],\n",
        "        '전남':[51,0.062,0.4],\n",
        "        '세종':[69,0.06,0.5],\n",
        "        '경북':[57,0.066,0.4],\n",
        "        '경남':[49,0.074,0.4],\n",
        "        '제주':[66,0.076,0.3]}\n",
        "\n",
        "value = list(data.values())\n",
        "print(value)"
      ],
      "execution_count": null,
      "outputs": []
    },
    {
      "cell_type": "code",
      "metadata": {
        "id": "2gQh-tUXY8P9"
      },
      "source": [
        "data = {'서울':[81,0.052,0.4] ,\n",
        "        '부산':[54,0.072,0.4],\n",
        "        '대구':[55,0.06,0.4],\n",
        "        '인천':[52,0.06,0.5],\n",
        "        '광주':[61,0.064,0.5],\n",
        "        '대전':[71,0.064,0.4],\n",
        "        '울산':[60,0.068,0.4],\n",
        "        '경기':[64,0.06,0.4],\n",
        "        '강원':[62,0.062,0.4],\n",
        "        '충북':[59,0.067,0.4],\n",
        "        '충남':[65,0.063,0.4],\n",
        "        '전북':[65,0.068,0.4],\n",
        "        '전남':[51,0.062,0.4],\n",
        "        '세종':[69,0.06,0.5],\n",
        "        '경북':[57,0.066,0.4],\n",
        "        '경남':[49,0.074,0.4],\n",
        "        '제주':[66,0.076,0.3]}\n",
        "value = list(data.values())\n",
        "pm10 = []\n",
        "o3 = []\n",
        "co = []\n",
        "\n",
        "for item in value :\n",
        "    pm10.append(item[0])\n",
        "    o3.append(item[1])\n",
        "    co.append(item[2])\n",
        "\n",
        "\n",
        "    \n",
        "print(pm10)\n",
        "print(o3)\n",
        "print(co)"
      ],
      "execution_count": null,
      "outputs": []
    },
    {
      "cell_type": "code",
      "metadata": {
        "id": "kX4zbbTuZCjq"
      },
      "source": [
        "data = {'서울':[81,0.052,0.4] ,\n",
        "        '부산':[54,0.072,0.4],\n",
        "        '대구':[55,0.06,0.4],\n",
        "        '인천':[52,0.06,0.5],\n",
        "        '광주':[61,0.064,0.5],\n",
        "        '대전':[71,0.064,0.4],\n",
        "        '울산':[60,0.068,0.4],\n",
        "        '경기':[64,0.06,0.4],\n",
        "        '강원':[62,0.062,0.4],\n",
        "        '충북':[59,0.067,0.4],\n",
        "        '충남':[65,0.063,0.4],\n",
        "        '전북':[65,0.068,0.4],\n",
        "        '전남':[51,0.062,0.4],\n",
        "        '세종':[69,0.06,0.5],\n",
        "        '경북':[57,0.066,0.4],\n",
        "        '경남':[49,0.074,0.4],\n",
        "        '제주':[66,0.076,0.3]}\n",
        "value = list(data.values())\n",
        "pm10 = []\n",
        "o3 = []\n",
        "co = []\n",
        "\n",
        "for item in value :\n",
        "    pm10.append(item[0])\n",
        "    o3.append(item[1])\n",
        "    co.append(item[2])\n",
        "\n",
        "x = list(range(len(pm10)))\n",
        "\n",
        "plt.figure(figsize=(10, 10))\n",
        "#온도 \n",
        "plt.subplot(3,1,1)\n",
        "plt.plot(pm10, color='g', marker ='o', linestyle='--', label='pm10')\n",
        "plt.xticks(x, area)\n",
        "plt.legend()\n",
        "#오존\n",
        "plt.subplot(3,1,2)\n",
        "plt.plot(o3, 'rx--', label = 'o3')\n",
        "plt.xticks(x, area)\n",
        "plt.legend()\n",
        "#이산화탄소\n",
        "plt.subplot(3,1,3)\n",
        "plt.plot(co, 'y<--', label = 'co')\n",
        "plt.xticks(x, area)\n",
        "plt.legend()\n",
        "\n",
        "plt.show()"
      ],
      "execution_count": null,
      "outputs": []
    }
  ]
}